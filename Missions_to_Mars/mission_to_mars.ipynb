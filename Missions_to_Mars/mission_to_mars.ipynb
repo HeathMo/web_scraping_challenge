{
 "cells": [
  {
   "cell_type": "code",
   "execution_count": null,
   "metadata": {},
   "outputs": [],
   "source": [
    "#Dependencies\n",
    "import os\n",
    "import requests\n",
    "import pandas as pd\n",
    "from bs4 import BeautifulSoup"
   ]
  },
  {
   "cell_type": "code",
   "execution_count": null,
   "metadata": {},
   "outputs": [],
   "source": [
    "from splinter import Browser\n",
    "executable_path = {'executable_path': '/usr/local/bin/chromedriver'}\n",
    "browser = Browser('chrome', **executable_path, headless=False)\n",
    "#copy over from classwork to test - not working\n",
    "url = 'http://quotes.toscrape.com/'\n",
    "browser.visit(url)"
   ]
  },
  {
   "cell_type": "markdown",
   "metadata": {},
   "source": [
    "## NASA Mars News"
   ]
  },
  {
   "cell_type": "code",
   "execution_count": null,
   "metadata": {},
   "outputs": [],
   "source": [
    "#Scrape site Mars News\n",
    "nasa_url = 'https://mars.nasa.gov/news/'\n",
    "browser.visit(nasa_url)\n",
    "html = browser.html\n",
    "nasa_soup = BeautifulSoup(html, 'html.parser')\n",
    "\n",
    "nasa_news_title = nasa_soup.find('div', class_='content_title').find('a').text\n",
    "print(nasa_news_title)\n",
    "\n",
    "nasa_news_p = nasa_soup.find('div', class_='article_teaser_body').text\n",
    "print(nasa_news_p)"
   ]
  },
  {
   "cell_type": "markdown",
   "metadata": {},
   "source": [
    "## JPL Mars Space Images - Featured Image"
   ]
  },
  {
   "cell_type": "code",
   "execution_count": null,
   "metadata": {},
   "outputs": [],
   "source": [
    "jpl_url = 'https://spaceimages-mars.com'\n",
    "#https://www.jpl.nasa.gov/images/perseverance-team-selects-a-new-rock-to-abrade\n",
    "browser.visit(jpl_url)\n",
    "html = browser.html\n",
    "jpl_soup = BeautifulSoup(html, 'html.parser')\n",
    "image = jpl_soup.find('img', class_='thumb')['src']\n",
    "featured_image_url = 'https://jpl.nasa.gov'+image\n",
    "\n",
    "print(featured_image_url)"
   ]
  },
  {
   "cell_type": "markdown",
   "metadata": {},
   "source": [
    "## Mars Facts"
   ]
  },
  {
   "cell_type": "code",
   "execution_count": null,
   "metadata": {},
   "outputs": [],
   "source": [
    "mars_facts = 'https://galaxyfacts-mars.com'\n",
    "mars_table = pd.read_html(mars_facts)\n",
    "\n",
    "df = mars_table[0]\n",
    "df.columns = ['Facts', 'Value']\n",
    "df"
   ]
  },
  {
   "cell_type": "code",
   "execution_count": null,
   "metadata": {},
   "outputs": [],
   "source": [
    "mars_facts_html = df.to_html()\n",
    "mars_facts_html = mars_facts_html.replace('\\n','')\n",
    "mars_facts_html"
   ]
  },
  {
   "cell_type": "markdown",
   "metadata": {},
   "source": [
    "## Mars Hemispheres"
   ]
  },
  {
   "cell_type": "code",
   "execution_count": null,
   "metadata": {},
   "outputs": [],
   "source": [
    "hemisphere_image_urls = []"
   ]
  },
  {
   "cell_type": "markdown",
   "metadata": {},
   "source": [
    "#### Cerberus Hemisphere"
   ]
  },
  {
   "cell_type": "code",
   "execution_count": null,
   "metadata": {},
   "outputs": [],
   "source": [
    "cerb_url = 'https://marshemispheres.com/images/cerberus_enhanced.tif'\n",
    "#https://marshemispheres.com/images/full.jpg\n",
    "\n",
    "response = requests.get(cerb_url)\n",
    "cerb_soup = BeautifulSoup(response.text, 'html.parser')\n",
    "\n",
    "#print(cerb_soup.prettify())"
   ]
  },
  {
   "cell_type": "code",
   "execution_count": null,
   "metadata": {},
   "outputs": [],
   "source": []
  }
 ],
 "metadata": {
  "kernelspec": {
   "display_name": "Python 3",
   "language": "python",
   "name": "python3"
  },
  "language_info": {
   "codemirror_mode": {
    "name": "ipython",
    "version": 3
   },
   "file_extension": ".py",
   "mimetype": "text/x-python",
   "name": "python",
   "nbconvert_exporter": "python",
   "pygments_lexer": "ipython3",
   "version": "3.6.10"
  }
 },
 "nbformat": 4,
 "nbformat_minor": 2
}
